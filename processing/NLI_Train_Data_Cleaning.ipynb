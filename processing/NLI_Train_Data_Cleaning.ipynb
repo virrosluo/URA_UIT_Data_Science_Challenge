{
 "cells": [
  {
   "cell_type": "markdown",
   "metadata": {},
   "source": [
    "# Training Data Processing\n",
    "This script is used to create a training set, it includes 2 steps:\n",
    "- Data Cleaning\n",
    "- Select evidence for NEI case, as the original dataset don't contain evidence for NEI sample\n",
    "\n",
    "The input for this script is a Retrieval Result that select top 5 sentences in top 5 paragraphs:\n",
    "- Input file is placed in: ../result/retrieval_result/public_train_retrieval_v1_top5_top_5.json\n",
    "- The output is placed in: ../result/processed_data/"
   ]
  },
  {
   "cell_type": "code",
   "execution_count": null,
   "metadata": {},
   "outputs": [],
   "source": [
    "import json\n",
    "import numpy as np\n",
    "from difflib import SequenceMatcher"
   ]
  },
  {
   "cell_type": "code",
   "execution_count": null,
   "metadata": {},
   "outputs": [],
   "source": [
    "def similar(a, b):\n",
    "    return SequenceMatcher(None, a, b).ratio()"
   ]
  },
  {
   "cell_type": "code",
   "execution_count": null,
   "metadata": {},
   "outputs": [],
   "source": [
    "INPUT_FILE = \"\"\n",
    "OUTPUT_FILE = \"\""
   ]
  },
  {
   "cell_type": "code",
   "execution_count": null,
   "metadata": {},
   "outputs": [],
   "source": [
    "data = json.load(open(INPUT_FILE))"
   ]
  },
  {
   "cell_type": "code",
   "execution_count": null,
   "metadata": {},
   "outputs": [],
   "source": [
    "for key in data.keys():\n",
    "    try:\n",
    "        if data[key]['verdict'] != 'NEI':\n",
    "            data[key]['evidence_similarity'] = similar(data[key]['claim'], data[key]['evidence'])\n",
    "        else:\n",
    "            data[key]['evidence_similarity'] = 0\n",
    "        data[key]['retrieval_evidence_similarity'] = list()\n",
    "        for evidence in data[key]['retrieval_evidence']:\n",
    "            data[key]['retrieval_evidence_similarity'].append(similar(data[key]['claim'], evidence))\n",
    "    except:\n",
    "        print(key)"
   ]
  },
  {
   "cell_type": "code",
   "execution_count": null,
   "metadata": {},
   "outputs": [],
   "source": [
    "new_train_set = dict()\n",
    "for key in data.keys():\n",
    "    if ((data[key]['verdict'] == 'SUPPORTED' and data[key]['evidence'] not in data[key]['retrieval_evidence']) or \n",
    "       (data[key]['verdict'] == 'REFUTED'and data[key]['evidence'] not in data[key]['retrieval_evidence'])):\n",
    "            continue\n",
    "    new_train_set[key] = dict()\n",
    "    new_train_set[key]['context'] = data[key]['context']\n",
    "    new_train_set[key]['claim'] = data[key]['claim']\n",
    "    new_train_set[key]['verdict'] = data[key]['verdict']\n",
    "    \n",
    "    if data[key]['verdict'] == \"NEI\":\n",
    "        new_train_set[key]['evidence'] = data[key]['retrieval_evidence'][np.argmax(data[key]['retrieval_evidence_similarity'])]\n",
    "    else:\n",
    "        new_train_set[key]['evidence'] = data[key]['evidence']"
   ]
  },
  {
   "cell_type": "code",
   "execution_count": null,
   "metadata": {},
   "outputs": [],
   "source": [
    "# Save New Result\n",
    "with open(\"public_train_v4.json\", \"w\") as outfile:\n",
    "    json.dump(new_train_set, outfile)"
   ]
  }
 ],
 "metadata": {
  "language_info": {
   "name": "python"
  }
 },
 "nbformat": 4,
 "nbformat_minor": 2
}
