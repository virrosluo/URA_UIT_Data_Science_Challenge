{
 "cells": [
  {
   "cell_type": "code",
   "execution_count": null,
   "metadata": {},
   "outputs": [],
   "source": [
    "import json\n",
    "import pandas as pd\n",
    "import numpy as np\n",
    "from difflib import SequenceMatcher"
   ]
  },
  {
   "cell_type": "code",
   "execution_count": null,
   "metadata": {},
   "outputs": [],
   "source": [
    "NLI_FILE = \"../result/private_test_retrieval_v1_top5_top_5_mDeBERTa (ft) V6(mean).json\"\n",
    "CHECKER_FILE = \"../result/private_test_retrieval_v1_top5_top_5_checked.json\""
   ]
  },
  {
   "cell_type": "code",
   "execution_count": null,
   "metadata": {},
   "outputs": [],
   "source": [
    "def similar(a, b):\n",
    "    return SequenceMatcher(None, a, b).ratio()"
   ]
  },
  {
   "cell_type": "code",
   "execution_count": null,
   "metadata": {},
   "outputs": [],
   "source": [
    "nli_result = json.load(open(NLI_FILE))\n",
    "checker_result = json.load(open(CHECKER_FILE))"
   ]
  },
  {
   "cell_type": "code",
   "execution_count": null,
   "metadata": {},
   "outputs": [],
   "source": [
    "for key in nli_result.keys():\n",
    "    nli_result[key]['similarity'] = list()\n",
    "    for evidence in nli_result[key]['evidence']:\n",
    "        nli_result[key]['similarity'].append(similar(nli_result[key]['claim'], evidence))"
   ]
  },
  {
   "cell_type": "code",
   "execution_count": null,
   "metadata": {},
   "outputs": [],
   "source": [
    "for key in nli_result.keys():\n",
    "    if set(nli_result[key]['verdict']) == {'NEI'}:\n",
    "        nli_result[key]['verdict'] = 'NEI'\n",
    "        nli_result[key]['evidence'] = ''\n",
    "    else:\n",
    "        result_list = [\n",
    "            (nli_result[key]['verdict'][x],\n",
    "                nli_result[key]['evidence'][x],\n",
    "                nli_result[key]['prob'][x],\n",
    "                nli_result[key]['similarity'][x],\n",
    "                ) for x in range(len(nli_result[key]['verdict'])) if nli_result[key]['verdict'][x] != \"NEI\"]\n",
    "        \n",
    "        max_prob_index  = np.argmax([x[2] for x in result_list])\n",
    "        max_similar_index  = np.argmax([x[3] for x in result_list])\n",
    "                \n",
    "        nli_result[key]['verdict'] = result_list[max_similar_index][0]\n",
    "        nli_result[key]['evidence'] = result_list[max_similar_index][1]"
   ]
  },
  {
   "cell_type": "code",
   "execution_count": null,
   "metadata": {},
   "outputs": [],
   "source": [
    "for key in checker_result.keys():\n",
    "    if 'SUPPORTED' in checker_result[key]['verdict']:\n",
    "        evidence_index = checker_result[key]['verdict'].index('SUPPORTED')\n",
    "        checker_result[key]['verdict'] = 'SUPPORTED'\n",
    "        checker_result[key]['evidence'] = checker_result[key]['evidence'][evidence_index]\n",
    "    \n",
    "    elif 'REFUTED' in checker_result[key]['verdict']:\n",
    "        evidence_index = checker_result[key]['verdict'].index('REFUTED')\n",
    "        checker_result[key]['verdict'] = 'REFUTED'\n",
    "        checker_result[key]['evidence'] = checker_result[key]['evidence'][evidence_index]\n",
    "    \n",
    "    else:\n",
    "        checker_result[key]['verdict'] = ''\n",
    "        checker_result[key]['evidence'] = ''\n",
    "        continue"
   ]
  },
  {
   "cell_type": "code",
   "execution_count": null,
   "metadata": {},
   "outputs": [],
   "source": [
    "private_test_result = dict()"
   ]
  },
  {
   "cell_type": "code",
   "execution_count": null,
   "metadata": {},
   "outputs": [],
   "source": [
    "for key in nli_result.keys():\n",
    "    private_test_result[key] = dict()\n",
    "    private_test_result[key]['context'] = nli_result[key]['context']\n",
    "    private_test_result[key]['claim'] = nli_result[key]['claim']\n",
    "    if checker_result[key]['verdict'] != '':\n",
    "        private_test_result[key]['verdict'] = checker_result[key]['verdict']\n",
    "        private_test_result[key]['evidence'] = checker_result[key]['evidence']\n",
    "    else:\n",
    "        private_test_result[key]['verdict'] = nli_result[key]['verdict']\n",
    "        private_test_result[key]['evidence'] = nli_result[key]['evidence']"
   ]
  },
  {
   "cell_type": "code",
   "execution_count": null,
   "metadata": {},
   "outputs": [],
   "source": [
    "with open(f\"../result/private_submit_v3_mean_v1/private_result.json\", \"w\") as outfile:\n",
    "    json.dump(private_test_result, outfile)"
   ]
  }
 ],
 "metadata": {
  "language_info": {
   "name": "python"
  }
 },
 "nbformat": 4,
 "nbformat_minor": 2
}
